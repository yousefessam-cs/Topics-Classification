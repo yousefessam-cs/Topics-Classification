{
  "nbformat": 4,
  "nbformat_minor": 0,
  "metadata": {
    "colab": {
      "name": "NLP_Project.ipynb",
      "provenance": [],
      "collapsed_sections": []
    },
    "kernelspec": {
      "name": "python3",
      "display_name": "Python 3"
    },
    "language_info": {
      "name": "python"
    }
  },
  "cells": [
    {
      "cell_type": "code",
      "execution_count": null,
      "metadata": {
        "id": "6yKbSfuoJups"
      },
      "outputs": [],
      "source": [
        "import os\n",
        "import sys\n",
        "import numpy as np\n",
        "import pandas as pd\n",
        "import tensorflow\n",
        "from tensorflow import keras\n",
        "from tensorflow.keras.utils import to_categorical\n",
        "from keras.preprocessing.text import Tokenizer\n",
        "from keras.preprocessing.sequence import pad_sequences\n",
        "from keras.layers import Embedding\n",
        "from keras.layers import Dense, Input\n",
        "from keras.models import Model\n",
        "from nltk.stem import SnowballStemmer\n",
        "from nltk.stem.isri import ISRIStemmer\n",
        "from textblob import TextBlob"
      ]
    },
    {
      "cell_type": "code",
      "source": [
        "import nltk\n",
        "nltk.download('stopwords')\n",
        "nltk.download('punkt')"
      ],
      "metadata": {
        "id": "XPk9INnLlylq"
      },
      "execution_count": null,
      "outputs": []
    },
    {
      "cell_type": "code",
      "source": [
        "from nltk.corpus import stopwords\n",
        "import re"
      ],
      "metadata": {
        "id": "CedDjLqDTBq0"
      },
      "execution_count": null,
      "outputs": []
    },
    {
      "cell_type": "code",
      "source": [
        "CURRENT_DIR_PATH = %pwd\n",
        "TEXT_DATA_DIR = os.path.join(CURRENT_DIR_PATH, 'categories')\n",
        "print(CURRENT_DIR_PATH)"
      ],
      "metadata": {
        "id": "SQNyHIYSLWKG",
        "colab": {
          "base_uri": "https://localhost:8080/"
        },
        "outputId": "f4f2d985-a5a4-4bd2-f3a0-6cd6cfd1b2ea"
      },
      "execution_count": null,
      "outputs": [
        {
          "output_type": "stream",
          "name": "stdout",
          "text": [
            "C:\\Users\\thaze\n"
          ]
        }
      ]
    },
    {
      "cell_type": "code",
      "source": [
        "texts = [] \n",
        "labels_index = {} \n",
        "labels = [] "
      ],
      "metadata": {
        "id": "u2BOydGV6m-k"
      },
      "execution_count": null,
      "outputs": []
    },
    {
      "cell_type": "code",
      "source": [
        "for name in sorted(os.listdir(TEXT_DATA_DIR)):\n",
        "\n",
        "  path = os.path.join(TEXT_DATA_DIR, name)\n",
        "  print(path)\n",
        "  if os.path.isdir(path):\n",
        "    label_id = len(labels_index)\n",
        "    labels_index[name] = label_id\n",
        "    for fname in sorted(os.listdir(path)):\n",
        "      fpath = os.path.join(path, fname)\n",
        "      with open(fpath, encoding='utf-8') as f:\n",
        "        t = f.read()\n",
        "        i = t.find('\\n\\n')\n",
        "        if 0 < i:\n",
        "          t = t[i:]\n",
        "        texts.append(t)\n",
        "        \n",
        "      labels.append(label_id)\n",
        "\n",
        "print('Found %s texts.' % len(texts))\n",
        "print('nLabels = ', len(labels))\n",
        "print('Classes are:\\n ')\n",
        "for key in labels_index:\n",
        "    print (key)"
      ],
      "metadata": {
        "colab": {
          "base_uri": "https://localhost:8080/"
        },
        "id": "ZEN9JLu86g0w",
        "outputId": "8b518520-aa77-4efe-8eed-8d1967c64ffe"
      },
      "execution_count": null,
      "outputs": [
        {
          "output_type": "stream",
          "name": "stdout",
          "text": [
            "C:\\Users\\thaze\\categories\\Medical\n",
            "C:\\Users\\thaze\\categories\\Politics\n",
            "C:\\Users\\thaze\\categories\\Sports\n",
            "Found 19500 texts.\n",
            "nLabels =  19500\n",
            "Classes are:\n",
            " \n",
            "Medical\n",
            "Politics\n",
            "Sports\n"
          ]
        }
      ]
    },
    {
      "cell_type": "code",
      "source": [
        "ArListem = ISRIStemmer()\n",
        "def stem(text):\n",
        "    zen = TextBlob(text)\n",
        "    words = zen.words\n",
        "    cleaned = [ArListem.stem(w) for w in words if not w in stopwords.words('arabic')]\n",
        "    return \" \".join(cleaned)"
      ],
      "metadata": {
        "id": "IFEA6YfxLgO0"
      },
      "execution_count": null,
      "outputs": []
    },
    {
      "cell_type": "code",
      "source": [
        "texts = [stem(t) for t in texts]"
      ],
      "metadata": {
        "id": "ZyO-9YIz_OcY"
      },
      "execution_count": null,
      "outputs": []
    },
    {
      "cell_type": "code",
      "source": [
        "tokenizer = Tokenizer(num_words=20000)\n",
        "tokenizer.fit_on_texts(texts)\n",
        "token_x=tokenizer.texts_to_sequences(texts)\n",
        "word_index = tokenizer.word_index"
      ],
      "metadata": {
        "id": "R5BawEuZTGKF"
      },
      "execution_count": null,
      "outputs": []
    },
    {
      "cell_type": "code",
      "source": [
        "from keras.preprocessing.sequence import pad_sequences\n",
        "maxlen =1000\n",
        "token_x = pad_sequences(token_x,maxlen=maxlen)"
      ],
      "metadata": {
        "id": "b1qblEo4TVg6"
      },
      "execution_count": null,
      "outputs": []
    },
    {
      "cell_type": "code",
      "source": [
        "labels_matrix = to_categorical(np.asarray(labels))"
      ],
      "metadata": {
        "id": "brXffQPNN92G"
      },
      "execution_count": null,
      "outputs": []
    },
    {
      "cell_type": "code",
      "source": [
        "VALIDATION_SPLIT = 0.2\n",
        "indices = np.arange(token_x.shape[0])\n",
        "np.random.shuffle(indices)\n",
        "data_shuffled = token_x[indices]\n",
        "labels_shuffled = labels_matrix[indices]\n",
        "nb_validation_samples = int(VALIDATION_SPLIT * data_shuffled.shape[0])\n",
        "x_train = data_shuffled[:-nb_validation_samples]\n",
        "y_train = labels_shuffled[:-nb_validation_samples]\n",
        "x_val = data_shuffled[-nb_validation_samples:]\n",
        "y_val = labels_shuffled[-nb_validation_samples:]"
      ],
      "metadata": {
        "id": "AQMUHro7OIO3"
      },
      "execution_count": null,
      "outputs": []
    },
    {
      "cell_type": "code",
      "source": [
        "vocab_size = len(tokenizer.word_index) +1\n",
        "print(len(word_index))"
      ],
      "metadata": {
        "id": "rHbI2DR6TlLg",
        "colab": {
          "base_uri": "https://localhost:8080/"
        },
        "outputId": "4f9fcc05-e73b-47bc-e4e7-692f6e8b526f"
      },
      "execution_count": null,
      "outputs": [
        {
          "output_type": "stream",
          "name": "stdout",
          "text": [
            "73361\n"
          ]
        }
      ]
    },
    {
      "cell_type": "code",
      "source": [
        "import gensim\n",
        "from textblob import TextBlob"
      ],
      "metadata": {
        "id": "61kiAy7NTo1k"
      },
      "execution_count": null,
      "outputs": []
    },
    {
      "cell_type": "code",
      "source": [
        "def temp_split(text):\n",
        "  zen = TextBlob(text)\n",
        "  words = zen.words\n",
        "  return words\n",
        "corpus = [temp_split(t) for t in texts]"
      ],
      "metadata": {
        "id": "MygiPjCMTs7F"
      },
      "execution_count": null,
      "outputs": []
    },
    {
      "cell_type": "code",
      "source": [
        "w2v_model = gensim.models.Word2Vec(sentences=corpus,vector_size=100,window=10,min_count=2, workers=4)\n",
        "# w2v_model = gensim.models.Word2Vec(sentences=corpus,size=100,window=10,min_count=2, workers=4)"
      ],
      "metadata": {
        "id": "ZUAp2xahUA2f"
      },
      "execution_count": null,
      "outputs": []
    },
    {
      "cell_type": "code",
      "source": [
        "def get_matrix(model):\n",
        "  weight_matrix = np.zeros((vocab_size,100))\n",
        "  for word, i in tokenizer.word_index.items():\n",
        "    if word in model.wv.key_to_index:\n",
        "      weight_matrix[i] = model.wv.key_to_index[word]\n",
        "    # if word in model.wv:\n",
        "    #   weight_matrix[i] = model.wv[word]\n",
        "  return weight_matrix"
      ],
      "metadata": {
        "id": "4rWOERW8UDXn"
      },
      "execution_count": null,
      "outputs": []
    },
    {
      "cell_type": "code",
      "source": [
        "embedding_vectors =get_matrix(w2v_model)"
      ],
      "metadata": {
        "id": "fXGOxgqVUF4u"
      },
      "execution_count": null,
      "outputs": []
    },
    {
      "cell_type": "code",
      "source": [
        "from tensorflow.keras.layers import LSTM,Dropout"
      ],
      "metadata": {
        "id": "PbRsjehE5bVy"
      },
      "execution_count": null,
      "outputs": []
    },
    {
      "cell_type": "code",
      "source": [
        "model = tensorflow.keras.Sequential()\n",
        "model.add(Embedding(vocab_size,output_dim=100,weights=[embedding_vectors],input_length=1000,))\n",
        "model.add(LSTM(units=256,return_sequences=True))\n",
        "model.add(Dense(128, activation='relu'))\n",
        "model.add(LSTM(units=128,return_sequences=True))\n",
        "model.add(Dropout(0.4))\n",
        "model.add(LSTM(units=128))\n",
        "model.add(Dense(len(labels_index),activation='sigmoid'))"
      ],
      "metadata": {
        "id": "P__z3vluIp2O"
      },
      "execution_count": null,
      "outputs": []
    },
    {
      "cell_type": "code",
      "source": [
        "# model = Model(sequence_input, preds)\n",
        "model.compile(loss='categorical_crossentropy', optimizer='adam', metrics=['acc'])\n",
        "# happy learning!\n"
      ],
      "metadata": {
        "id": "K3wiEc72ZpVR"
      },
      "execution_count": null,
      "outputs": []
    },
    {
      "cell_type": "code",
      "source": [
        "model.summary()"
      ],
      "metadata": {
        "colab": {
          "base_uri": "https://localhost:8080/"
        },
        "id": "aQFNvzGpbN43",
        "outputId": "f0f5f98d-14fa-4d0a-b8cf-0d4b2d498943"
      },
      "execution_count": null,
      "outputs": [
        {
          "output_type": "stream",
          "name": "stdout",
          "text": [
            "Model: \"sequential_10\"\n",
            "_________________________________________________________________\n",
            " Layer (type)                Output Shape              Param #   \n",
            "=================================================================\n",
            " embedding_10 (Embedding)    (None, 1000, 100)         7336200   \n",
            "                                                                 \n",
            " lstm_28 (LSTM)              (None, 1000, 256)         365568    \n",
            "                                                                 \n",
            " dense_14 (Dense)            (None, 1000, 128)         32896     \n",
            "                                                                 \n",
            " lstm_29 (LSTM)              (None, 1000, 128)         131584    \n",
            "                                                                 \n",
            " dropout_6 (Dropout)         (None, 1000, 128)         0         \n",
            "                                                                 \n",
            " lstm_30 (LSTM)              (None, 128)               131584    \n",
            "                                                                 \n",
            " dense_15 (Dense)            (None, 3)                 387       \n",
            "                                                                 \n",
            "=================================================================\n",
            "Total params: 7,998,219\n",
            "Trainable params: 7,998,219\n",
            "Non-trainable params: 0\n",
            "_________________________________________________________________\n"
          ]
        }
      ]
    },
    {
      "cell_type": "code",
      "source": [
        "model.fit(x_train, y_train, validation_data=(x_val, y_val), epochs = 10, batch_size = 128)"
      ],
      "metadata": {
        "colab": {
          "base_uri": "https://localhost:8080/"
        },
        "id": "0zR-GhAAbQrf",
        "outputId": "ce2b5e8f-044e-4ca1-fcae-a65f00a7b451"
      },
      "execution_count": null,
      "outputs": [
        {
          "output_type": "stream",
          "name": "stdout",
          "text": [
            "Epoch 1/10\n",
            "122/122 [==============================] - 73s 551ms/step - loss: 0.9082 - acc: 0.5631 - val_loss: 0.6907 - val_acc: 0.6851\n",
            "Epoch 2/10\n",
            "122/122 [==============================] - 72s 588ms/step - loss: 0.6258 - acc: 0.7267 - val_loss: 0.5925 - val_acc: 0.7526\n",
            "Epoch 3/10\n",
            "122/122 [==============================] - 77s 630ms/step - loss: 0.5134 - acc: 0.7780 - val_loss: 0.4996 - val_acc: 0.7964\n",
            "Epoch 4/10\n",
            "122/122 [==============================] - 70s 571ms/step - loss: 0.4378 - acc: 0.8196 - val_loss: 0.5463 - val_acc: 0.7721\n",
            "Epoch 5/10\n",
            "122/122 [==============================] - 81s 667ms/step - loss: 0.3656 - acc: 0.8556 - val_loss: 0.3789 - val_acc: 0.8528\n",
            "Epoch 6/10\n",
            "122/122 [==============================] - 68s 550ms/step - loss: 0.3531 - acc: 0.8597 - val_loss: 0.3504 - val_acc: 0.8649\n",
            "Epoch 7/10\n",
            "122/122 [==============================] - 178s 1s/step - loss: 0.3009 - acc: 0.8836 - val_loss: 0.4524 - val_acc: 0.8356\n",
            "Epoch 8/10\n",
            "122/122 [==============================] - 64s 525ms/step - loss: 0.3005 - acc: 0.8856 - val_loss: 0.3253 - val_acc: 0.8803\n",
            "Epoch 9/10\n",
            "122/122 [==============================] - 64s 522ms/step - loss: 0.2739 - acc: 0.8981 - val_loss: 0.3208 - val_acc: 0.8833\n",
            "Epoch 10/10\n",
            "122/122 [==============================] - 67s 552ms/step - loss: 0.2601 - acc: 0.9035 - val_loss: 0.3139 - val_acc: 0.8836\n"
          ]
        },
        {
          "output_type": "execute_result",
          "data": {
            "text/plain": [
              "<keras.callbacks.History at 0x285f0124988>"
            ]
          },
          "metadata": {},
          "execution_count": 65
        }
      ]
    },
    {
      "cell_type": "code",
      "source": [
        "print('Acuracy on testing set:')\n",
        "model.evaluate(x_val, y_val)"
      ],
      "metadata": {
        "colab": {
          "base_uri": "https://localhost:8080/"
        },
        "id": "ND7eDgLoo2T1",
        "outputId": "5836f2bf-4f3f-4fab-ad6a-3d53a87eab57"
      },
      "execution_count": null,
      "outputs": [
        {
          "output_type": "stream",
          "name": "stdout",
          "text": [
            "Acuracy on testing set:\n",
            "122/122 [==============================] - 9s 75ms/step - loss: 0.3139 - acc: 0.8836\n"
          ]
        },
        {
          "output_type": "execute_result",
          "data": {
            "text/plain": [
              "[0.31389114260673523, 0.8835897445678711]"
            ]
          },
          "metadata": {},
          "execution_count": 66
        }
      ]
    },
    {
      "cell_type": "code",
      "source": [
        "sample = 1\n",
        "label_vec = model.predict(token_x[sample].reshape(1,-1))\n",
        "label_id = np.argmax(label_vec)\n",
        "label_name = ''\n",
        "for name, ID in labels_index.items(): # for name, age in dictionary.iteritems(): (for Python 2.x)\n",
        "    if label_id == ID:\n",
        "        label_name = name\n",
        "        break\n",
        "print ('The category of article no %s is %s' %(sample ,label_name))"
      ],
      "metadata": {
        "colab": {
          "base_uri": "https://localhost:8080/"
        },
        "id": "rVh-EeK1MvJs",
        "outputId": "6eb76436-9883-4c06-b797-009f8d7adc23"
      },
      "execution_count": null,
      "outputs": [
        {
          "output_type": "stream",
          "name": "stdout",
          "text": [
            "The category of article no 1 is Medical\n"
          ]
        }
      ]
    }
  ]
}